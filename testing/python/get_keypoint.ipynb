{
 "cells": [
  {
   "cell_type": "code",
   "execution_count": 1,
   "metadata": {
    "collapsed": true
   },
   "outputs": [],
   "source": [
    "import cv2 as cv \n",
    "import numpy as np\n",
    "import scipy\n",
    "import PIL.Image\n",
    "import math\n",
    "# caffe_root = \"/home/yang/Workspace/TASK/keypoint/caffe_rtpose/\"\n",
    "# import sys\n",
    "# sys.path.insert(0, caffe_root + 'python')\n",
    "import caffe\n",
    "import time\n",
    "from config_reader import config_reader\n",
    "import util"
   ]
  },
  {
   "cell_type": "code",
   "execution_count": 2,
   "metadata": {},
   "outputs": [],
   "source": [
    "test_image = '../sample_image/ski.jpg'\n",
    "#test_image = '../sample_image/upper.jpg'\n",
    "#test_image = '../sample_image/upper2.jpg'\n",
    "oriImg = cv.imread(test_image) # B,G,R order"
   ]
  },
  {
   "cell_type": "code",
   "execution_count": 3,
   "metadata": {
    "collapsed": true
   },
   "outputs": [],
   "source": [
    "param, model = config_reader()\n",
    "multiplier = [x * model['boxsize'] / oriImg.shape[0] for x in param['scale_search']]"
   ]
  },
  {
   "cell_type": "code",
   "execution_count": 4,
   "metadata": {
    "collapsed": true
   },
   "outputs": [],
   "source": [
    "if param['use_gpu']: \n",
    "    caffe.set_mode_gpu()\n",
    "    caffe.set_device(param['GPUdeviceNumber']) # set to your device!\n",
    "else:\n",
    "    caffe.set_mode_cpu()\n",
    "net = caffe.Net(model['deployFile'], model['caffemodel'], caffe.TEST)"
   ]
  },
  {
   "cell_type": "code",
   "execution_count": 5,
   "metadata": {},
   "outputs": [
    {
     "name": "stdout",
     "output_type": "stream",
     "text": [
      "(184, 200, 3)\n",
      "At scale 0, The CNN took 649.45 ms.\n",
      "(368, 392, 3)\n",
      "At scale 1, The CNN took 1543.13 ms.\n",
      "(552, 584, 3)\n",
      "At scale 2, The CNN took 3410.82 ms.\n",
      "(736, 784, 3)\n",
      "At scale 3, The CNN took 5926.14 ms.\n"
     ]
    }
   ],
   "source": [
    "heatmap_avg = np.zeros((oriImg.shape[0], oriImg.shape[1], 19))\n",
    "paf_avg = np.zeros((oriImg.shape[0], oriImg.shape[1], 38))\n",
    "\n",
    "for m in range(len(multiplier)):\n",
    "    scale = multiplier[m]\n",
    "    imageToTest = cv.resize(oriImg, (0,0), fx=scale, fy=scale, interpolation=cv.INTER_CUBIC)\n",
    "    imageToTest_padded, pad = util.padRightDownCorner(imageToTest, model['stride'], model['padValue'])\n",
    "    print imageToTest_padded.shape\n",
    "\n",
    "    net.blobs['data'].reshape(*(1, 3, imageToTest_padded.shape[0], imageToTest_padded.shape[1]))\n",
    "    #net.forward() # dry run\n",
    "    net.blobs['data'].data[...] = np.transpose(np.float32(imageToTest_padded[:,:,:,np.newaxis]), (3,2,0,1))/256 - 0.5;\n",
    "    start_time = time.time()\n",
    "    output_blobs = net.forward()\n",
    "    print('At scale %d, The CNN took %.2f ms.' % (m, 1000 * (time.time() - start_time)))\n",
    "\n",
    "    # extract outputs, resize, and remove padding\n",
    "    heatmap = np.transpose(np.squeeze(net.blobs[output_blobs.keys()[1]].data), (1,2,0)) # output 1 is heatmaps\n",
    "    heatmap = cv.resize(heatmap, (0,0), fx=model['stride'], fy=model['stride'], interpolation=cv.INTER_CUBIC)\n",
    "    heatmap = heatmap[:imageToTest_padded.shape[0]-pad[2], :imageToTest_padded.shape[1]-pad[3], :]\n",
    "    heatmap = cv.resize(heatmap, (oriImg.shape[1], oriImg.shape[0]), interpolation=cv.INTER_CUBIC)\n",
    "    \n",
    "    paf = np.transpose(np.squeeze(net.blobs[output_blobs.keys()[0]].data), (1,2,0)) # output 0 is PAFs\n",
    "    paf = cv.resize(paf, (0,0), fx=model['stride'], fy=model['stride'], interpolation=cv.INTER_CUBIC)\n",
    "    paf = paf[:imageToTest_padded.shape[0]-pad[2], :imageToTest_padded.shape[1]-pad[3], :]\n",
    "    paf = cv.resize(paf, (oriImg.shape[1], oriImg.shape[0]), interpolation=cv.INTER_CUBIC)\n",
    "     \n",
    "    heatmap_avg = heatmap_avg + heatmap / len(multiplier)\n",
    "    paf_avg = paf_avg + paf / len(multiplier)\n"
   ]
  },
  {
   "cell_type": "code",
   "execution_count": 6,
   "metadata": {
    "scrolled": true
   },
   "outputs": [
    {
     "name": "stdout",
     "output_type": "stream",
     "text": [
      "(674, 712, 19)\n",
      "[[(616, 44, 0.93386441469192505, 0), (303, 78, 0.93961541354656219, 1), (481, 98, 0.91290576756000519, 2), (68, 268, 0.93640249967575073, 3), (173, 280, 0.95367415249347687, 4)], [(614, 83, 0.88991190493106842, 5), (306, 113, 0.92324985563755035, 6), (458, 144, 0.79451495409011841, 7), (66, 302, 0.87793654203414917, 8), (170, 304, 0.92667004466056824, 9)], [(584, 89, 0.81856814026832581, 10), (272, 117, 0.8959868997335434, 11), (416, 146, 0.64621058851480484, 12), (39, 303, 0.87037493288516998, 13), (139, 304, 0.89320802688598633, 14)], [(545, 131, 0.91910834610462189, 15), (348, 142, 0.43601641868008301, 16), (259, 167, 0.74719075858592987, 17), (65, 341, 0.65085992217063904, 18), (137, 360, 0.79141350090503693, 19)], [(568, 170, 0.7006695568561554, 20), (283, 179, 0.66114842146635056, 21), (282, 180, 0.66213471442461014, 22), (93, 355, 0.27196971327066422, 23), (171, 376, 0.81103268265724182, 24)], [(645, 76, 0.87654848396778107, 25), (339, 109, 0.85844880342483521, 26), (502, 138, 0.75288774073123932, 27), (94, 301, 0.82094399631023407, 28), (200, 305, 0.8910200297832489, 29)], [(659, 125, 0.8206460177898407, 30), (353, 147, 0.25340404361486435, 31), (541, 193, 0.597529336810112, 32), (122, 331, 0.67774564027786255, 33), (203, 357, 0.76184429228305817, 34)], [(661, 166, 0.73090521991252899, 35), (301, 167, 0.16848172433674335, 36), (568, 195, 0.53897703438997269, 37), (99, 349, 0.62509419769048691, 38), (189, 375, 0.57071588933467865, 39)], [(615, 200, 0.6637653112411499, 40), (296, 213, 0.67096406221389771, 41), (436, 324, 0.39538899040780962, 42), (155, 379, 0.68886749446392059, 43), (39, 389, 0.61376236379146576, 44)], [(620, 280, 0.84319217503070831, 45), (310, 282, 0.76219843327999115, 46), (80, 337, 0.59673453867435455, 47), (137, 373, 0.37761109322309494, 48), (509, 435, 0.60651547461748123, 49)], [(616, 353, 0.69110646843910217, 50), (324, 369, 0.6874472051858902, 51), (111, 402, 0.61739066243171692, 52), (196, 402, 0.31140020862221718, 53), (531, 561, 0.52646256424486637, 54)], [(651, 194, 0.65920088440179825, 55), (339, 208, 0.69285552203655243, 56), (465, 318, 0.35207731230184436, 57), (192, 376, 0.74116954207420349, 58), (80, 387, 0.47789324820041656, 59)], [(344, 277, 0.84833979606628418, 60), (649, 277, 0.84401759505271912, 61), (113, 338, 0.43066179007291794, 62), (241, 363, 0.8735937625169754, 63), (463, 461, 0.78973580896854401, 64)], [(295, 347, 0.71948055922985077, 65), (639, 353, 0.73610247671604156, 66), (132, 405, 0.59664145112037659, 67), (170, 406, 0.5958634689450264, 68), (411, 557, 0.54635769128799438, 69)], [(608, 38, 0.95067325234413147, 70), (296, 72, 0.94770549237728119, 71), (466, 87, 0.91988970339298248, 72), (61, 262, 0.92786478996276855, 73), (167, 273, 0.96056988835334778, 74)], [(622, 37, 0.94895502924919128, 75), (309, 71, 0.95325727760791779, 76), (488, 84, 0.94092100858688354, 77), (75, 262, 0.94930857419967651, 78), (180, 274, 0.9731154590845108, 79)], [(596, 44, 0.93102382123470306, 80), (285, 78, 0.91581323742866516, 81), (437, 91, 0.89014555513858795, 82), (49, 269, 0.87740100920200348, 83), (156, 273, 0.84860195219516754, 84)], [(631, 39, 0.78327137231826782, 85), (318, 75, 0.84592993557453156, 86), (83, 269, 0.81686189770698547, 87), (190, 277, 0.93114480376243591, 88)]]\n",
      "[(616, 44), (303, 78), (481, 98), (68, 268), (173, 280), (614, 83), (306, 113), (458, 144), (66, 302), (170, 304), (584, 89), (272, 117), (416, 146), (39, 303), (139, 304), (545, 131), (348, 142), (259, 167), (65, 341), (137, 360), (568, 170), (283, 179), (282, 180), (93, 355), (171, 376), (645, 76), (339, 109), (502, 138), (94, 301), (200, 305), (659, 125), (353, 147), (541, 193), (122, 331), (203, 357), (661, 166), (301, 167), (568, 195), (99, 349), (189, 375), (615, 200), (296, 213), (436, 324), (155, 379), (39, 389), (620, 280), (310, 282), (80, 337), (137, 373), (509, 435), (616, 353), (324, 369), (111, 402), (196, 402), (531, 561), (651, 194), (339, 208), (465, 318), (192, 376), (80, 387), (344, 277), (649, 277), (113, 338), (241, 363), (463, 461), (295, 347), (639, 353), (132, 405), (170, 406), (411, 557), (608, 38), (296, 72), (466, 87), (61, 262), (167, 273), (622, 37), (309, 71), (488, 84), (75, 262), (180, 274), (596, 44), (285, 78), (437, 91), (49, 269), (156, 273), (631, 39), (318, 75), (83, 269), (190, 277)]\n"
     ]
    }
   ],
   "source": [
    "import scipy\n",
    "print heatmap_avg.shape\n",
    "\n",
    "#plt.imshow(heatmap_avg[:,:,2])\n",
    "from scipy.ndimage.filters import gaussian_filter\n",
    "all_peaks = []\n",
    "all_peaks_lst = []\n",
    "peak_counter = 0\n",
    "\n",
    "for part in range(19-1):\n",
    "    x_list = []\n",
    "    y_list = []\n",
    "    map_ori = heatmap_avg[:,:,part]\n",
    "    map = gaussian_filter(map_ori, sigma=3)\n",
    "    \n",
    "    map_left = np.zeros(map.shape)\n",
    "    map_left[1:,:] = map[:-1,:]\n",
    "    map_right = np.zeros(map.shape)\n",
    "    map_right[:-1,:] = map[1:,:]\n",
    "    map_up = np.zeros(map.shape)\n",
    "    map_up[:,1:] = map[:,:-1]\n",
    "    map_down = np.zeros(map.shape)\n",
    "    map_down[:,:-1] = map[:,1:]\n",
    "    \n",
    "    peaks_binary = np.logical_and.reduce((map>=map_left, map>=map_right, map>=map_up, map>=map_down, map > param['thre1']))\n",
    "    peaks = zip(np.nonzero(peaks_binary)[1], np.nonzero(peaks_binary)[0]) # note reverse\n",
    "    all_peaks_lst += peaks\n",
    "    peaks_with_score = [x + (map_ori[x[1],x[0]],) for x in peaks]\n",
    "    id = range(peak_counter, peak_counter + len(peaks))\n",
    "    peaks_with_score_and_id = [peaks_with_score[i] + (id[i],) for i in range(len(id))]\n",
    "\n",
    "    all_peaks.append(peaks_with_score_and_id)\n",
    "    peak_counter += len(peaks)\n",
    "print all_peaks\n",
    "print all_peaks_lst"
   ]
  },
  {
   "cell_type": "code",
   "execution_count": 7,
   "metadata": {
    "collapsed": true
   },
   "outputs": [],
   "source": [
    "# find connection in the specified sequence, center 29 is in the position 15\n",
    "limbSeq = [[2,3], [2,6], [3,4], [4,5], [6,7], [7,8], [2,9], [9,10], \\\n",
    "           [10,11], [2,12], [12,13], [13,14], [2,1], [1,15], [15,17], \\\n",
    "           [1,16], [16,18], [3,17], [6,18]]\n",
    "# the middle joints heatmap correpondence\n",
    "mapIdx = [[31,32], [39,40], [33,34], [35,36], [41,42], [43,44], [19,20], [21,22], \\\n",
    "          [23,24], [25,26], [27,28], [29,30], [47,48], [49,50], [53,54], [51,52], \\\n",
    "          [55,56], [37,38], [45,46]]"
   ]
  },
  {
   "cell_type": "code",
   "execution_count": 8,
   "metadata": {
    "collapsed": true
   },
   "outputs": [],
   "source": [
    "connection_all = []\n",
    "special_k = []\n",
    "mid_num = 10\n",
    "\n",
    "for k in range(len(mapIdx)):\n",
    "    score_mid = paf_avg[:,:,[x-19 for x in mapIdx[k]]]\n",
    "    candA = all_peaks[limbSeq[k][0]-1]\n",
    "    candB = all_peaks[limbSeq[k][1]-1]\n",
    "    nA = len(candA)\n",
    "    nB = len(candB)\n",
    "    indexA, indexB = limbSeq[k]\n",
    "    if(nA != 0 and nB != 0):\n",
    "        connection_candidate = []\n",
    "        for i in range(nA):\n",
    "            for j in range(nB):\n",
    "                vec = np.subtract(candB[j][:2], candA[i][:2])\n",
    "                norm = math.sqrt(vec[0]*vec[0] + vec[1]*vec[1])\n",
    "                vec = np.divide(vec, norm)\n",
    "                \n",
    "                startend = zip(np.linspace(candA[i][0], candB[j][0], num=mid_num), \\\n",
    "                               np.linspace(candA[i][1], candB[j][1], num=mid_num))\n",
    "                \n",
    "                vec_x = np.array([score_mid[int(round(startend[I][1])), int(round(startend[I][0])), 0] \\\n",
    "                                  for I in range(len(startend))])\n",
    "                vec_y = np.array([score_mid[int(round(startend[I][1])), int(round(startend[I][0])), 1] \\\n",
    "                                  for I in range(len(startend))])\n",
    "\n",
    "                score_midpts = np.multiply(vec_x, vec[0]) + np.multiply(vec_y, vec[1])\n",
    "                score_with_dist_prior = sum(score_midpts)/len(score_midpts) + min(0.5*oriImg.shape[0]/norm-1, 0)\n",
    "                criterion1 = len(np.nonzero(score_midpts > param['thre2'])[0]) > 0.8 * len(score_midpts)\n",
    "                criterion2 = score_with_dist_prior > 0\n",
    "                if criterion1 and criterion2:\n",
    "                    connection_candidate.append([i, j, score_with_dist_prior, score_with_dist_prior+candA[i][2]+candB[j][2]])\n",
    "\n",
    "        connection_candidate = sorted(connection_candidate, key=lambda x: x[2], reverse=True)\n",
    "        connection = np.zeros((0,5))\n",
    "        for c in range(len(connection_candidate)):\n",
    "            i,j,s = connection_candidate[c][0:3]\n",
    "            if(i not in connection[:,3] and j not in connection[:,4]):\n",
    "                connection = np.vstack([connection, [candA[i][3], candB[j][3], s, i, j]])\n",
    "                if(len(connection) >= min(nA, nB)):\n",
    "                    break\n",
    "\n",
    "        connection_all.append(connection)\n",
    "    else:\n",
    "        special_k.append(k)\n",
    "        connection_all.append([])"
   ]
  },
  {
   "cell_type": "code",
   "execution_count": 9,
   "metadata": {
    "collapsed": true
   },
   "outputs": [],
   "source": [
    "# last number in each row is the total parts number of that person\n",
    "# the second last number in each row is the score of the overall configuration\n",
    "subset = -1 * np.ones((0, 20))\n",
    "candidate = np.array([item for sublist in all_peaks for item in sublist])\n",
    "\n",
    "for k in range(len(mapIdx)):\n",
    "    if k not in special_k:\n",
    "        partAs = connection_all[k][:,0]\n",
    "        partBs = connection_all[k][:,1]\n",
    "        indexA, indexB = np.array(limbSeq[k]) - 1\n",
    "\n",
    "        for i in range(len(connection_all[k])): #= 1:size(temp,1)\n",
    "            found = 0\n",
    "            subset_idx = [-1, -1]\n",
    "            for j in range(len(subset)): #1:size(subset,1):\n",
    "                if subset[j][indexA] == partAs[i] or subset[j][indexB] == partBs[i]:\n",
    "                    subset_idx[found] = j\n",
    "                    found += 1\n",
    "            \n",
    "            if found == 1:\n",
    "                j = subset_idx[0]\n",
    "                if(subset[j][indexB] != partBs[i]):\n",
    "                    subset[j][indexB] = partBs[i]\n",
    "                    subset[j][-1] += 1\n",
    "                    subset[j][-2] += candidate[partBs[i].astype(int), 2] + connection_all[k][i][2]\n",
    "            elif found == 2: # if found 2 and disjoint, merge them\n",
    "                j1, j2 = subset_idx\n",
    "                print \"found = 2\"\n",
    "                membership = ((subset[j1]>=0).astype(int) + (subset[j2]>=0).astype(int))[:-2]\n",
    "                if len(np.nonzero(membership == 2)[0]) == 0: #merge\n",
    "                    subset[j1][:-2] += (subset[j2][:-2] + 1)\n",
    "                    subset[j1][-2:] += subset[j2][-2:]\n",
    "                    subset[j1][-2] += connection_all[k][i][2]\n",
    "                    subset = np.delete(subset, j2, 0)\n",
    "                else: # as like found == 1\n",
    "                    subset[j1][indexB] = partBs[i]\n",
    "                    subset[j1][-1] += 1\n",
    "                    subset[j1][-2] += candidate[partBs[i].astype(int), 2] + connection_all[k][i][2]\n",
    "\n",
    "            # if find no partA in the subset, create a new subset\n",
    "            elif not found and k < 17:\n",
    "                row = -1 * np.ones(20)\n",
    "                row[indexA] = partAs[i]\n",
    "                row[indexB] = partBs[i]\n",
    "                row[-1] = 2\n",
    "                row[-2] = sum(candidate[connection_all[k][i,:2].astype(int), 2]) + connection_all[k][i][2]\n",
    "                subset = np.vstack([subset, row])"
   ]
  },
  {
   "cell_type": "code",
   "execution_count": 10,
   "metadata": {},
   "outputs": [
    {
     "name": "stdout",
     "output_type": "stream",
     "text": [
      "[[  4.           9.          14.          19.          24.          29.\n",
      "   34.          39.          43.          48.          53.          58.\n",
      "   63.          68.          74.          79.          84.          88.\n",
      "   29.24890465  18.        ]\n",
      " [  3.           8.          13.          18.          23.          28.\n",
      "   33.          38.          44.          47.          52.          59.\n",
      "   62.          67.          73.          78.          83.          87.\n",
      "   27.0958793   18.        ]\n",
      " [  0.           5.          10.          15.          20.          25.\n",
      "   30.          35.          40.          45.          50.          55.\n",
      "   61.          66.          70.          75.          80.          85.\n",
      "   31.09361054  18.        ]\n",
      " [  1.           6.          11.          17.          22.          26.\n",
      "   31.          36.          41.          46.          51.          56.\n",
      "   60.          65.          71.          76.          81.          86.\n",
      "   28.09304559  18.        ]\n",
      " [  2.           7.          12.          16.          21.          27.\n",
      "   32.          37.          42.          49.          54.          57.\n",
      "   64.          69.          72.          77.          82.          -1.\n",
      "   23.96460413  17.        ]]\n"
     ]
    }
   ],
   "source": [
    "# delete some rows of subset which has few parts occur\n",
    "deleteIdx = [];\n",
    "for i in range(len(subset)):\n",
    "    if subset[i][-1] < 4 or subset[i][-2]/subset[i][-1] < 0.4:\n",
    "        deleteIdx.append(i)\n",
    "subset = np.delete(subset, deleteIdx, axis=0)\n",
    "print subset"
   ]
  },
  {
   "cell_type": "code",
   "execution_count": 11,
   "metadata": {},
   "outputs": [
    {
     "name": "stdout",
     "output_type": "stream",
     "text": [
      "(5, 36)\n",
      "[[173, 280, 170, 304, 139, 304, 137, 360, 171, 376, 200, 305, 203, 357, 189, 375, 155, 379, 137, 373, 196, 402, 192, 376, 241, 363, 170, 406, 167, 273, 180, 274, 156, 273, 190, 277], [68, 268, 66, 302, 39, 303, 65, 341, 93, 355, 94, 301, 122, 331, 99, 349, 39, 389, 80, 337, 111, 402, 80, 387, 113, 338, 132, 405, 61, 262, 75, 262, 49, 269, 83, 269], [616, 44, 614, 83, 584, 89, 545, 131, 568, 170, 645, 76, 659, 125, 661, 166, 615, 200, 620, 280, 616, 353, 651, 194, 649, 277, 639, 353, 608, 38, 622, 37, 596, 44, 631, 39], [303, 78, 306, 113, 272, 117, 259, 167, 282, 180, 339, 109, 353, 147, 301, 167, 296, 213, 310, 282, 324, 369, 339, 208, 344, 277, 295, 347, 296, 72, 309, 71, 285, 78, 318, 75], [481, 98, 458, 144, 416, 146, 348, 142, 283, 179, 502, 138, 541, 193, 568, 195, 436, 324, 509, 435, 531, 561, 465, 318, 463, 461, 411, 557, 466, 87, 488, 84, 437, 91, 0, 0]]\n"
     ]
    }
   ],
   "source": [
    "human_grid = []\n",
    "for human_i in subset:\n",
    "    human_grid_i = []\n",
    "    for i in range(18):\n",
    "        body_part_index = int(human_i[i])\n",
    "        if body_part_index == -1:\n",
    "            grid = (0, 0)\n",
    "        else:\n",
    "            grid = all_peaks_lst[body_part_index]\n",
    "        human_grid_i += [grid[0], grid[1]]\n",
    "    human_grid.append(human_grid_i)\n",
    "all_grid = np.array(human_grid)\n",
    "print all_grid.shape\n",
    "print human_grid"
   ]
  },
  {
   "cell_type": "code",
   "execution_count": null,
   "metadata": {
    "collapsed": true
   },
   "outputs": [],
   "source": []
  }
 ],
 "metadata": {
  "kernelspec": {
   "display_name": "Python 2",
   "language": "python",
   "name": "python2"
  },
  "language_info": {
   "codemirror_mode": {
    "name": "ipython",
    "version": 2
   },
   "file_extension": ".py",
   "mimetype": "text/x-python",
   "name": "python",
   "nbconvert_exporter": "python",
   "pygments_lexer": "ipython2",
   "version": "2.7.6"
  }
 },
 "nbformat": 4,
 "nbformat_minor": 2
}
